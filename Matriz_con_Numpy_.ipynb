{
  "nbformat": 4,
  "nbformat_minor": 0,
  "metadata": {
    "colab": {
      "provenance": [],
      "authorship_tag": "ABX9TyPuk6h8TF33vkMx3srphCuc",
      "include_colab_link": true
    },
    "kernelspec": {
      "name": "python3",
      "display_name": "Python 3"
    },
    "language_info": {
      "name": "python"
    }
  },
  "cells": [
    {
      "cell_type": "markdown",
      "metadata": {
        "id": "view-in-github",
        "colab_type": "text"
      },
      "source": [
        "<a href=\"https://colab.research.google.com/github/sebasGarciaC/DS_Sebastian/blob/main/Matriz_con_Numpy_.ipynb\" target=\"_parent\"><img src=\"https://colab.research.google.com/assets/colab-badge.svg\" alt=\"Open In Colab\"/></a>"
      ]
    },
    {
      "cell_type": "code",
      "execution_count": null,
      "metadata": {
        "id": "2_BQPaeUEmfu"
      },
      "outputs": [],
      "source": [
        "import numpy as np\n",
        "import pandas as pd"
      ]
    },
    {
      "cell_type": "code",
      "source": [
        "A = np.array([[1,2,3,4,5,6],[7,8,9,10,11,12],[13,14,15,16,17,18],[19,20,21,22,23,24],[25,26,27,28,29,30],[31,32,33,34,35,36]])\n",
        "A"
      ],
      "metadata": {
        "id": "wZZ6EICnEvKk",
        "colab": {
          "base_uri": "https://localhost:8080/"
        },
        "outputId": "a133a362-931d-4fab-825e-ff8714343c16"
      },
      "execution_count": null,
      "outputs": [
        {
          "output_type": "execute_result",
          "data": {
            "text/plain": [
              "array([[ 1,  2,  3,  4,  5,  6],\n",
              "       [ 7,  8,  9, 10, 11, 12],\n",
              "       [13, 14, 15, 16, 17, 18],\n",
              "       [19, 20, 21, 22, 23, 24],\n",
              "       [25, 26, 27, 28, 29, 30],\n",
              "       [31, 32, 33, 34, 35, 36]])"
            ]
          },
          "metadata": {},
          "execution_count": 18
        }
      ]
    },
    {
      "cell_type": "code",
      "source": [
        "A [5,5] = 36\n",
        "A"
      ],
      "metadata": {
        "colab": {
          "base_uri": "https://localhost:8080/"
        },
        "id": "ey4bQAggu9C4",
        "outputId": "f86fddc8-1bb9-4b85-c77a-b5ede83091c5"
      },
      "execution_count": null,
      "outputs": [
        {
          "output_type": "execute_result",
          "data": {
            "text/plain": [
              "array([[ 1,  2,  3,  4,  5,  6],\n",
              "       [ 7,  8,  9, 10, 11, 12],\n",
              "       [13, 14, 15, 16, 17, 18],\n",
              "       [19, 20, 21, 22, 23, 24],\n",
              "       [25, 26, 27, 28, 29, 30],\n",
              "       [31, 32, 33, 34, 35, 36]])"
            ]
          },
          "metadata": {},
          "execution_count": 21
        }
      ]
    },
    {
      "cell_type": "code",
      "source": [
        "A[2]=[ 7,  8,  9, 10, 11, 12]"
      ],
      "metadata": {
        "id": "Sfuhl_Wkxog_"
      },
      "execution_count": null,
      "outputs": []
    },
    {
      "cell_type": "code",
      "source": [
        "A[]"
      ],
      "metadata": {
        "colab": {
          "base_uri": "https://localhost:8080/"
        },
        "id": "ALsQ6EjzxqG4",
        "outputId": "9cb6ea67-502b-463d-b5ea-0cff74912171"
      },
      "execution_count": null,
      "outputs": [
        {
          "output_type": "execute_result",
          "data": {
            "text/plain": [
              "array([13, 14, 15, 16, 17, 18])"
            ]
          },
          "metadata": {},
          "execution_count": 58
        }
      ]
    },
    {
      "cell_type": "code",
      "source": [
        "ced =[1,2,3]\n",
        "nom = ['a','b','c']\n",
        "edad = [4,5,6]\n",
        "per ={}\n",
        "for i in range(len(ced)):\n",
        "  per[ced[i]] = {'nombre :':nom[i], 'edad :': edad[i]}\n",
        "  print(ced[i],nom[i],edad[i])\n",
        "per"
      ],
      "metadata": {
        "id": "_DS4xzfd6kVS",
        "colab": {
          "base_uri": "https://localhost:8080/"
        },
        "outputId": "9843132a-dcab-4637-fe54-5c778fa75ea6"
      },
      "execution_count": null,
      "outputs": [
        {
          "output_type": "stream",
          "name": "stdout",
          "text": [
            "1 a 4\n",
            "2 b 5\n",
            "3 c 6\n"
          ]
        },
        {
          "output_type": "execute_result",
          "data": {
            "text/plain": [
              "{1: {'nombre :': 'a', 'edad :': 4},\n",
              " 2: {'nombre :': 'b', 'edad :': 5},\n",
              " 3: {'nombre :': 'c', 'edad :': 6}}"
            ]
          },
          "metadata": {},
          "execution_count": 2
        }
      ]
    },
    {
      "cell_type": "code",
      "source": [],
      "metadata": {
        "id": "hhSzCmjO7Um1"
      },
      "execution_count": null,
      "outputs": []
    }
  ]
}